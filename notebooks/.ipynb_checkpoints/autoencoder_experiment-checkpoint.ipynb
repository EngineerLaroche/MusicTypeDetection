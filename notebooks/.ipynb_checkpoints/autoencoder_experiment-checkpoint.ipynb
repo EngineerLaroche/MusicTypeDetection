{
 "cells": [
  {
   "cell_type": "markdown",
   "metadata": {},
   "source": [
    "# Laboratoire 4 : Développement d’un système intelligent\n",
    "#### Département du génie logiciel et des technologies de l’information\n",
    "\n",
    "| Étudiants             | Alexandre Laroche - LARA12078907<br>Marc-Antoine Charland - CHAM16059609<br>Jonathan Croteau-Dicaire - CROJ10109402    |\n",
    "|-----------------------|---------------------------------------------------------|\n",
    "| Cours                 | GTI770 - Systèmes intelligents et apprentissage machine |\n",
    "| Session               | Été 2019                                            |\n",
    "| Groupe                | 02                                                      |\n",
    "| Numéro du laboratoire | TP-04                                                   |\n",
    "| Professeur            | Prof. Alessandro L. Koarich                             |\n",
    "| Chargé de laboratoire | Pierre-Luc Delisle                                                     |\n",
    "| Date                  | 5 août 2019 (23h55)                                                    |"
   ]
  },
  {
   "cell_type": "code",
   "execution_count": 14,
   "metadata": {},
   "outputs": [],
   "source": [
    "from os import path\n",
    "\n",
    "import pandas as pd\n",
    "import numpy as np\n",
    "from sklearn.preprocessing import StandardScaler, MinMaxScaler\n",
    "from tensorflow.keras.callbacks import TensorBoard, EarlyStopping, ModelCheckpoint\n",
    "from tensorflow.keras.layers import Dense, Input, BatchNormalization, Dropout\n",
    "from tensorflow.keras.models import Model\n",
    "from tensorflow.keras.optimizers import RMSprop, Adam\n",
    "from tensorflow.keras.regularizers import l1\n",
    "\n",
    "from src import constants"
   ]
  },
  {
   "cell_type": "code",
   "execution_count": 2,
   "metadata": {},
   "outputs": [],
   "source": [
    "def load_feature_set():\n",
    "\n",
    "    file_path = path.join(constants.RAW_TAGGED_FEATURE_SET_PATH, \"msd-marsyas_dev_new/msd-marsyas_dev_new.csv\")\n",
    "    \n",
    "    ftrs = np.array(pd.read_csv(file_path, header=None).values[:,2:-1])\n",
    "    lbls = np.array(pd.read_csv(file_path, header=None).values[:,-1])\n",
    "    \n",
    "    return ftrs, lbls\n",
    "\n",
    "def scale_features(ftrs):\n",
    "    \n",
    "    standardscaler = StandardScaler()\n",
    "    ftrs_scld = standardscaler.fit_transform(ftrs)\n",
    "    \n",
    "    return ftrs_scld"
   ]
  },
  {
   "cell_type": "code",
   "execution_count": 3,
   "metadata": {},
   "outputs": [
    {
     "name": "stdout",
     "output_type": "stream",
     "text": [
      "(179555, 124)\n"
     ]
    }
   ],
   "source": [
    "# Load the features and the labels\n",
    "raw_ftrs, raw_lbls = load_feature_set()\n",
    "\n",
    "ftrs = scale_features(raw_ftrs)\n",
    "\n",
    "print(ftrs.shape)"
   ]
  },
  {
   "cell_type": "code",
   "execution_count": 4,
   "metadata": {},
   "outputs": [
    {
     "name": "stdout",
     "output_type": "stream",
     "text": [
      "[17.438, 20.63, 7.722, -1.581, -1.314, -1.21, 3.325, -0.239, -1.969, 0.958, -5.28, 0.136, 0.776, -6.516, 5.989, -6.262, 2.074, -1.255, -0.844, -0.474, -1.235, -1.254, -1.253, -0.731, 1.572, -0.944, -1.235, -1.239, -1.242, 15.63, 0.115, 0.55, 0.391, -1.568, -1.045, -1.164, -1.413, -1.556, -1.708, -1.511, -1.646, -1.838, -1.826, -1.849, -1.608, -1.284, -1.129, -1.758, -1.221, -1.07, -0.92, -1.224, -1.212, -1.211, -1.112, -0.694, -1.155, -1.189, -1.194, -1.203, 1.586, 0.01, 4.135, 1.115, -2.151, 1.072, -0.495, -0.51, -0.378, -1.094, -0.449, -0.279, -0.67, -0.934, -1.151, -0.926, -1.056, -0.994, -1.413, -1.184, -0.866, -0.55, -1.207, -1.201, -1.21, -0.805, 1.029, -0.977, -1.176, -1.175, -1.165, 3.405, 0.013, 2.122, -0.381, -2.077, 0.849, 1.398, -1.256, -1.11, -1.971, -1.002, -1.444, -1.171, -1.42, -1.658, -0.801, -0.404, -0.788, -1.205, -1.09, -0.989, -0.889, -1.127, -1.121, -1.131, -1.034, -0.614, -1.088, -1.105, -1.095, -1.082, 2.223, -0.001]\n"
     ]
    }
   ],
   "source": [
    "print([round(a, 3) for a in max(ftrs, key=lambda x: x[1])])"
   ]
  },
  {
   "cell_type": "code",
   "execution_count": 38,
   "metadata": {},
   "outputs": [],
   "source": [
    "def create_model():\n",
    "\n",
    "    regularization = 0.00000000001\n",
    "    \n",
    "    inputs = Input(shape=(124,), name=\"inputs\")\n",
    "\n",
    "    encoded = Dense(\n",
    "        120, activation='relu', activity_regularizer=l1(regularization)\n",
    "    )(inputs)\n",
    "    \n",
    "    #encoded = BatchNormalization()(encoded)\n",
    "    \n",
    "    encoded = Dense(\n",
    "        115, activation='relu', activity_regularizer=l1(regularization)\n",
    "    )(encoded)\n",
    "    \n",
    "    encoded = Dropout(0.05)(encoded)\n",
    "    \n",
    "    encoded = Dense(\n",
    "        112, activation='relu', activity_regularizer=l1(regularization)\n",
    "    )(encoded)\n",
    "    \n",
    "    bottleneck = Dense(110, activation='relu', name=\"bottleneck\")(encoded)\n",
    "    \n",
    "    decoded = Dense(\n",
    "        112, activation='relu', activity_regularizer=l1(regularization)\n",
    "    )(bottleneck)\n",
    "    \n",
    "    decoded = Dropout(0.05)(decoded)\n",
    "    \n",
    "    decoded = Dense(\n",
    "        115, activation='relu', activity_regularizer=l1(regularization)\n",
    "    )(bottleneck)\n",
    "    \n",
    "    #decoded = BatchNormalization()(decoded)\n",
    "    \n",
    "    decoded = Dense(\n",
    "        120, activation='relu', activity_regularizer=l1(regularization)\n",
    "    )(decoded)\n",
    "\n",
    "    outputs = Dense(124, activation='linear')(decoded)\n",
    "\n",
    "    model = Model(inputs=inputs, outputs=outputs)\n",
    "    model.compile(\n",
    "        optimizer=Adam(lr=0.001),\n",
    "        loss='mean_squared_error'\n",
    "    )\n",
    "    \n",
    "    return model, inputs, bottleneck"
   ]
  },
  {
   "cell_type": "code",
   "execution_count": 8,
   "metadata": {},
   "outputs": [],
   "source": [
    "experiment_number = 108"
   ]
  },
  {
   "cell_type": "code",
   "execution_count": 45,
   "metadata": {},
   "outputs": [
    {
     "name": "stdout",
     "output_type": "stream",
     "text": [
      "Train on 143644 samples, validate on 35911 samples\n",
      "Epoch 1/50\n",
      " - 9s - loss: 0.3337 - val_loss: 0.1869\n",
      "Epoch 2/50\n",
      " - 2s - loss: 0.2144 - val_loss: 0.1189\n",
      "Epoch 3/50\n",
      " - 2s - loss: 0.2127 - val_loss: 0.1069\n",
      "Epoch 4/50\n",
      " - 2s - loss: 0.2221 - val_loss: 0.1855\n",
      "Epoch 5/50\n",
      " - 2s - loss: 0.1877 - val_loss: 0.0950\n",
      "Epoch 6/50\n",
      " - 2s - loss: 0.1935 - val_loss: 0.1081\n",
      "Epoch 7/50\n",
      " - 2s - loss: 0.1636 - val_loss: 0.0907\n",
      "Epoch 8/50\n",
      " - 2s - loss: 0.1614 - val_loss: 0.2314\n",
      "Epoch 9/50\n",
      " - 2s - loss: 0.1368 - val_loss: 0.1013\n",
      "Epoch 10/50\n",
      " - 2s - loss: 0.3863 - val_loss: 0.0854\n",
      "Epoch 11/50\n",
      " - 2s - loss: 0.1463 - val_loss: 0.0769\n",
      "Epoch 12/50\n",
      " - 2s - loss: 0.1350 - val_loss: 0.0752\n",
      "Epoch 13/50\n",
      " - 2s - loss: 0.1377 - val_loss: 0.0719\n",
      "Epoch 14/50\n",
      " - 2s - loss: 0.1265 - val_loss: 0.0707\n",
      "Epoch 15/50\n",
      " - 2s - loss: 0.1780 - val_loss: 0.2879\n",
      "Epoch 16/50\n",
      " - 2s - loss: 0.2064 - val_loss: 0.0892\n",
      "Epoch 17/50\n",
      " - 2s - loss: 0.1479 - val_loss: 0.0747\n",
      "Epoch 18/50\n",
      " - 2s - loss: 0.1210 - val_loss: 0.0688\n",
      "Epoch 19/50\n",
      " - 2s - loss: 0.1836 - val_loss: 0.0768\n",
      "Epoch 20/50\n",
      " - 2s - loss: 0.1309 - val_loss: 0.0667\n",
      "Epoch 21/50\n",
      " - 2s - loss: 0.1216 - val_loss: 0.0640\n",
      "Epoch 22/50\n",
      " - 2s - loss: 0.1256 - val_loss: 0.0643\n",
      "Epoch 23/50\n",
      " - 2s - loss: 0.1233 - val_loss: 0.0798\n",
      "Epoch 24/50\n",
      " - 2s - loss: 0.2467 - val_loss: 0.0765\n",
      "Epoch 25/50\n",
      " - 2s - loss: 0.1798 - val_loss: 0.0747\n",
      "Epoch 26/50\n",
      " - 2s - loss: 0.1296 - val_loss: 0.0642\n",
      "Epoch 27/50\n",
      "Restoring model weights from the end of the best epoch.\n",
      " - 3s - loss: 0.1400 - val_loss: 0.0669\n",
      "Epoch 00027: early stopping\n"
     ]
    },
    {
     "data": {
      "text/plain": [
       "<tensorflow.python.keras.callbacks.History at 0x7f3f817319e8>"
      ]
     },
     "execution_count": 45,
     "metadata": {},
     "output_type": "execute_result"
    }
   ],
   "source": [
    "experiment_number += 1\n",
    "\n",
    "run_name = 'autoencoderdecoder_marsyas_' + str(experiment_number)\n",
    "model_save_path = constants.MODELS_PATH + run_name + '.h5'\n",
    "\n",
    "tk_board = TensorBoard(log_dir=constants.LOGS_PATH + run_name)\n",
    "early_stop = EarlyStopping(monitor='val_loss', patience=6, restore_best_weights=True, verbose=1)\n",
    "model_ckeckpt = ModelCheckpoint(filepath=model_save_path, monitor='val_loss', save_best_only=True, verbose=0)\n",
    "\n",
    "model, inputs_layer, bottleneck = create_model()\n",
    "\n",
    "model.fit(\n",
    "    x=ftrs, \n",
    "    y=ftrs,\n",
    "    epochs=50,\n",
    "    batch_size=500,\n",
    "    validation_split=0.2,\n",
    "    callbacks=[\n",
    "        tk_board,\n",
    "        early_stop,\n",
    "        model_ckeckpt\n",
    "    ],\n",
    "    shuffle=True,\n",
    "    verbose=2\n",
    ")"
   ]
  },
  {
   "cell_type": "code",
   "execution_count": 46,
   "metadata": {},
   "outputs": [],
   "source": [
    "save_path = constants.MODELS_PATH + 'autoencoder_marsyas_' + str(experiment_number) + '.h5'\n",
    "\n",
    "autoencoder = Model(inputs=inputs_layer, outputs=bottleneck)\n",
    "autoencoder.save(save_path)"
   ]
  }
 ],
 "metadata": {
  "kernelspec": {
   "display_name": "Python 3",
   "language": "python",
   "name": "python3"
  },
  "language_info": {
   "codemirror_mode": {
    "name": "ipython",
    "version": 3
   },
   "file_extension": ".py",
   "mimetype": "text/x-python",
   "name": "python",
   "nbconvert_exporter": "python",
   "pygments_lexer": "ipython3",
   "version": "3.6.8"
  }
 },
 "nbformat": 4,
 "nbformat_minor": 2
}
