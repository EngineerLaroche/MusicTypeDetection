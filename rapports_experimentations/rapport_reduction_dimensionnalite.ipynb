{
 "cells": [
  {
   "cell_type": "markdown",
   "metadata": {},
   "source": [
    "# Laboratoire 4 : Développement d’un système intelligent\n",
    "#### Département du génie logiciel et des technologies de l’information\n",
    "\n",
    "| Étudiants             | Alexandre Laroche - LARA12078907<br>Marc-Antoine Charland - CHAM16059609<br>Jonathan Croteau-Dicaire - CROJ10109402    |\n",
    "|-----------------------|---------------------------------------------------------|\n",
    "| Cours                 | GTI770 - Systèmes intelligents et apprentissage machine |\n",
    "| Session               | Été 2019                                            |\n",
    "| Groupe                | 02                                                      |\n",
    "| Numéro du laboratoire | TP-04                                                   |\n",
    "| Professeur            | Prof. Alessandro L. Koarich                             |\n",
    "| Chargé de laboratoire | Pierre-Luc Delisle                                                     |\n",
    "| Date                  | 5 août 2019 (23h55)                                                    |"
   ]
  },
  {
   "cell_type": "markdown",
   "metadata": {},
   "source": [
    "## Introduction\n",
    "Ce rapport présente les résultats des expérimentations effectués pour la réduction de dimensionnalité."
   ]
  },
  {
   "cell_type": "markdown",
   "metadata": {},
   "source": [
    "## Marsyas (marsyas_dev_new)\n",
    "\n",
    "#### PCA\n",
    "\n",
    "Cette ensemble ne semble pas bénéficier de PCA. Les images  suivantes présente l'accuracy et le loss lors de la validation d'un NN.\n",
    "\n",
    "Légende :\n",
    "\n",
    "Vert - sans PCA (124 primitives)\n",
    "\n",
    "Rose - avec PCA (65 composantes)\n",
    "\n",
    "Bleu - avec PCA (95 composantes)\n",
    "\n",
    "Gris - avec PCA (104 composantes)\n",
    "\n",
    "![marsyas_pca_val_acc](../logs/rapport_reduction_dimensionnalite/marsyas_pca_val_acc.png)\n",
    "![marsyas_pca_val_loss](../logs/rapport_reduction_dimensionnalite/marsyas_pca_val_loss.png)\n",
    "\n",
    "#### LDA\n",
    "\n",
    "Pour ce qui est de LDA, LDA limite le nombre de composantes à\n",
    "\n",
    "n_component <= min(n_classes - 1, n_features)\n",
    "\n",
    "Ainsi le nombre de composante avec LDA est limité à 25classes - 1 = 24coposantes\n",
    "\n",
    "Les images suivante présentes les résultats de l'accuracy et du loss lors de la validation.\n",
    "\n",
    "Légende :\n",
    "\n",
    "Vert - sans LDA (124 primitives)\n",
    "\n",
    "Bleu - avec LDA (n_components=24, shrinkage=0.1)\n",
    "\n",
    "Rose - avec LDA (n_components=24, shrinkage=0.0001)\n",
    "\n",
    "Gris - avec LDA (n_components=24, shrinkage=0.00000000001)\n",
    "\n",
    "![marsyas_lda_val_acc](../logs/rapport_reduction_dimensionnalite/marsyas_lda_val_acc.png)\n",
    "![marsyas_lda_val_loss](../logs/rapport_reduction_dimensionnalite/marsyas_lda_val_loss.png)\n",
    "\n",
    "Suite à ces résultats, LDA semble inutile pour les ensemble qui comportent largement plus de 124 primitives.\n",
    "\n",
    "#### Autoencoder\n",
    "\n",
    "Un auto encoder à été utilisé pour réduire le nombre de primitives à 100. Or, même cette autoencoder n'à pas permis d'améliorer la performance du NN. \n",
    "\n",
    "Performance d'apprentissage de l'autoencoder :\n",
    "val_acc = 0.9000\n",
    "val_loss = 5.8989e-04\n",
    "\n",
    "Légende :\n",
    "\n",
    "Vert - sans autoencoder (124 primitives)\n",
    "\n",
    "Bleu - avec autoencoder (100 primitives)\n",
    "\n",
    "![mlp_marsyas_autoencoder_val_acc](../logs/rapport_reduction_dimensionnalite/mlp_marsyas_autoencoder_val_acc.png)\n",
    "![mlp_marsyas_autoencoder_val_loss](../logs/rapport_reduction_dimensionnalite/mlp_marsyas_autoencoder_val_loss.png)\n",
    "\n",
    "Suite à ce test, les 124 primitives sembles tous importantes dans cette ensemble."
   ]
  },
  {
   "cell_type": "markdown",
   "metadata": {},
   "source": [
    "## Statistical Spectrum Descriptor (ssd_dev)\n",
    "\n",
    "Cette ensemble semble bénéficier de l'algorithme PCA. Cependant, le bénéfice en accuracy est seulement d'environ 0.5 %. Les images suivantes présentent l'accuracy et le loss lors de la validation.\n",
    "\n",
    "Légende :\n",
    "\n",
    "Rouge - sans PCA (168 primitives)\n",
    "\n",
    "Bleu - avec PCA (140 composantes )\n",
    "\n",
    "Vert - avec PCA (95 composantes )\n",
    "\n",
    "![ssd_pca_val_acc](../logs/rapport_reduction_dimensionnalite/ssd_pca_val_acc.png)\n",
    "\n",
    "![ssd_pca_val_loss](../logs/rapport_reduction_dimensionnalite/ssd_pca_val_loss.png)\n",
    "\n"
   ]
  }
 ],
 "metadata": {
  "kernelspec": {
   "display_name": "Python 3",
   "language": "python",
   "name": "python3"
  },
  "language_info": {
   "codemirror_mode": {
    "name": "ipython",
    "version": 3
   },
   "file_extension": ".py",
   "mimetype": "text/x-python",
   "name": "python",
   "nbconvert_exporter": "python",
   "pygments_lexer": "ipython3",
   "version": "3.6.8"
  }
 },
 "nbformat": 4,
 "nbformat_minor": 2
}
